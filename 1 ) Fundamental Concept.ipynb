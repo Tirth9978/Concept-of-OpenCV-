{
 "cells": [
  {
   "cell_type": "code",
   "execution_count": null,
   "id": "dc730553",
   "metadata": {},
   "outputs": [],
   "source": [
    "import cv2 \n",
    "import numpy as np\n",
    "from matplotlib import pyplot as plt"
   ]
  },
  {
   "cell_type": "markdown",
   "id": "388f934b",
   "metadata": {},
   "source": [
    "## Step 1: Importing Libraries & Loading Your Image \n"
   ]
  },
  {
   "cell_type": "code",
   "execution_count": null,
   "id": "db3ad4a2",
   "metadata": {},
   "outputs": [],
   "source": [
    "# Let's load your image.png file\n",
    "image = cv2.imread(\"image.jpg\")\n",
    "\n",
    "print(\"🎉 Image loaded successfully!\")\n",
    "print(f\"📏 Image shape: {image.shape}\")\n",
    "print(f\"🔢 Data type: {image.dtype}\")\n",
    "\n",
    "# Your image is actually a 3D NumPy array!\n",
    "# Let's explore its structure\n",
    "print(\"🧮 Image Matrix Structure:\")\n",
    "print(f\"Height (rows): {image.shape[0]}\")\n",
    "print(f\"Width (columns): {image.shape[1]}\")\n",
    "print(f\"Color channels: {image.shape[2]}\")\n",
    "\n",
    "\n",
    "# Display the actual matrix values for a small region\n",
    "print(\"\\n🔬 Let's look at a 5x5 pixel region:\")\n",
    "print(image[0:5, 0:5, :])  # First 5 rows, first 5 columns, all channels"
   ]
  },
  {
   "cell_type": "markdown",
   "id": "dd446e37",
   "metadata": {},
   "source": [
    "## Step 2 : Understanding Color Channels\n"
   ]
  },
  {
   "cell_type": "code",
   "execution_count": null,
   "id": "19ae221f",
   "metadata": {},
   "outputs": [],
   "source": [
    "# OpenCV uses BGR Formate \n",
    "blue = image[: , : , 0]\n",
    "green = image[: , : , 1]\n",
    "red = image[: , : , 2]\n",
    "\n",
    "print(\"Blue Shape : \" , blue.shape)\n",
    "print(\"Green Shape : \" , green.shape)\n",
    "print(\"red Shape : \" , red.shape)\n"
   ]
  },
  {
   "cell_type": "markdown",
   "id": "da977c69",
   "metadata": {},
   "source": [
    "## Step 3 : Visualizing Your Image"
   ]
  },
  {
   "cell_type": "code",
   "execution_count": null,
   "id": "2d675bae",
   "metadata": {},
   "outputs": [],
   "source": [
    "# Convert BGR to RGB for proper display \n",
    "image_rgb = cv2.cvtColor(image , cv2.COLOR_BGR2RGB)\n",
    "\n",
    "plt.figure(figsize=(12,4))\n",
    "\n",
    "plt.subplot(1, 2, 1)\n",
    "plt.imshow(image_rgb)\n",
    "plt.title(\"Original Image\")\n",
    "plt.axis(\"off\")\n",
    "\n",
    "plt.subplot(1, 2, 2)\n",
    "plt.imshow(red , cmap=\"Reds\")\n",
    "plt.title(\"Red Only\")\n",
    "plt.axis(\"off\")\n",
    "\n",
    "plt.tight_layout()\n",
    "plt.show()"
   ]
  },
  {
   "cell_type": "markdown",
   "id": "ec26d207",
   "metadata": {},
   "source": [
    "## Step 4 : Basic Matrix Operations\n",
    "- In this Part We will going to increase and decrease the brightness of the Image \n"
   ]
  },
  {
   "cell_type": "code",
   "execution_count": null,
   "id": "3eb445f1",
   "metadata": {},
   "outputs": [],
   "source": [
    "brightened_image = image + 50 # Increase brightness\n",
    "darkened_image = image - 50   # Decrease brightness\n",
    "\n",
    "brightened_image_rgb = cv2.cvtColor(brightened_image , cv2.COLOR_BGR2RGB)\n",
    "darkened_image_rgb = cv2.cvtColor(darkened_image , cv2.COLOR_BGR2RGB)\n",
    "\n",
    "\n",
    "plt.subplot(1, 2, 1)\n",
    "plt.imshow(brightened_image_rgb)\n",
    "plt.title(\"Increase brightness\")\n",
    "plt.axis(\"off\")\n",
    "\n",
    "plt.subplot(1, 2, 2)\n",
    "plt.imshow(darkened_image_rgb)\n",
    "plt.title(\"Decrease brightness\")\n",
    "plt.axis(\"off\")\n",
    "\n",
    "plt.tight_layout()\n",
    "plt.show()"
   ]
  },
  {
   "cell_type": "markdown",
   "id": "0ca62f2b",
   "metadata": {},
   "source": [
    "## Image Properties : "
   ]
  },
  {
   "cell_type": "code",
   "execution_count": null,
   "id": "e9293ebf",
   "metadata": {},
   "outputs": [],
   "source": [
    "print(\"📋 IMAGE PROPERTIES SUMMARY:\")\n",
    "print(f\"📐 Dimensions: {image.shape[1]} x {image.shape[0]} pixels\")\n",
    "print(f\"🎯 Total Pixels: {image.shape[0] * image.shape[1]:,}\")\n",
    "print(f\"🌈 Color Depth: {image.dtype}\")\n",
    "print(f\"📊 Memory Size: {image.nbytes:,} bytes\")\n",
    "print(f\"🎨 Color Channels: 3 (B, G, R)\")\n",
    "print(f\"🔢 Value Range: 0 to 255\")"
   ]
  },
  {
   "cell_type": "markdown",
   "id": "413ab93d",
   "metadata": {},
   "source": [
    "### 💡 Key Takeaways: \n",
    "- ✅ Images = 3D NumPy arrays\n",
    "- ✅ Shape = (height, width, channels)\n",
    "- ✅ Channels: Blue(0), Green(1), Red(2)\n",
    "- ✅ Pixel values: 0-255\n",
    "- ✅ OpenCV uses BGR format"
   ]
  }
 ],
 "metadata": {
  "kernelspec": {
   "display_name": "Python 3",
   "language": "python",
   "name": "python3"
  },
  "language_info": {
   "codemirror_mode": {
    "name": "ipython",
    "version": 3
   },
   "file_extension": ".py",
   "mimetype": "text/x-python",
   "name": "python",
   "nbconvert_exporter": "python",
   "pygments_lexer": "ipython3",
   "version": "3.13.3"
  }
 },
 "nbformat": 4,
 "nbformat_minor": 5
}
