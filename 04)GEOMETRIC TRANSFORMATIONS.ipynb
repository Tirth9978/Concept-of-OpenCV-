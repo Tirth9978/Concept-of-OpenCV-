{
 "cells": [
  {
   "cell_type": "markdown",
   "id": "a89c32b4",
   "metadata": {},
   "source": [
    "# GEOMETRIC TRANSFORMATIONS"
   ]
  },
  {
   "cell_type": "code",
   "execution_count": null,
   "id": "1bc31165",
   "metadata": {},
   "outputs": [],
   "source": [
    "import cv2 \n",
    "import numpy as np\n",
    "from matplotlib import pyplot as plt\n",
    "\n",
    "image = cv2.imread(\"image.jpg\")"
   ]
  },
  {
   "cell_type": "code",
   "execution_count": null,
   "id": "d92264ce",
   "metadata": {},
   "outputs": [],
   "source": [
    "height , width = image.shape[:2]\n",
    "\n",
    "rotated_matrix = cv2.getRotationMatrix2D((width/2 , height/2) , 45 , 1)\n",
    "rotated_image = cv2.warpAffine(image , rotated_matrix , (width,height))\n",
    "\n",
    "# Convert it in the RGB \n",
    "rotated_rgb = cv2.cvtColor(rotated_image , cv2.COLOR_BGR2RGB)\n",
    "original_rgb = cv2.cvtColor(image , cv2.COLOR_BGR2RGB)\n",
    "\n",
    "\n",
    "plt.figure(figsize=(12, 5))\n",
    "\n",
    "plt.subplot(1, 2, 1)\n",
    "plt.imshow(original_rgb)\n",
    "plt.title('🎨 Original')\n",
    "plt.axis('off')\n",
    "\n",
    "plt.subplot(1, 2, 2)\n",
    "plt.imshow(rotated_rgb)\n",
    "plt.title('🔄 Rotated 45°')\n",
    "plt.axis('off')\n",
    "\n",
    "plt.tight_layout()\n",
    "plt.show()"
   ]
  },
  {
   "cell_type": "markdown",
   "id": "8aa41b8c",
   "metadata": {},
   "source": [
    "## Image Rotation : \n",
    "\n",
    "1. `cv2.getRotationMatrix2D(center, angle, scale)`\n",
    "   - Center : At which point you want to rotated . (X , Y).\n",
    "   - angle  : How much you want to rotated . Ex : 30 , 45 ,.... \n",
    "   - Sale   : how much to zoom (1 means keep same size) \n",
    "2. Apply the Rotation : \n",
    "   - `rotated_image = cv2.warpAffine(image, rotation_matrix, (width, height))`.\n",
    "   - `cv2.warpAffine` is like telling OpenCV: \n",
    "   > “Take my image and warp (transform) it using this rotation recipe!”"
   ]
  },
  {
   "cell_type": "code",
   "execution_count": null,
   "id": "964432b2",
   "metadata": {},
   "outputs": [],
   "source": [
    "resized_image = cv2.resize(image , None , fx=0.5 , fy=0.5)\n",
    "resized_image_rgb = cv2.cvtColor(image , cv2.COLOR_BGR2RGB)\n",
    "\n",
    "print(f\"📐 Original size: {image.shape[1]} x {image.shape[0]}\")\n",
    "print(f\"📏 Resized size: {resized_image.shape[1]} x {resized_image.shape[0]}\")\n",
    "\n",
    "plt.imshow(resized_image_rgb)\n",
    "plt.title('📏 Resized Image (50%)')\n",
    "plt.axis('off')\n",
    "plt.show()"
   ]
  },
  {
   "cell_type": "markdown",
   "id": "f3d0697f",
   "metadata": {},
   "source": [
    "## Image Resizing\n",
    "`cv2.resize()` is a function from OpenCV that changes the size of your image 🖼️.\n",
    "- `image` : Your Original Image . \n",
    "- `None`  : We are not manualluy giving the New height and width \n",
    "- `fx = 0.5` : shrink width by half (🪞 side to side)\n",
    "- `fy = 0.5` : shrink height by half (📏 top to bottom) "
   ]
  }
 ],
 "metadata": {
  "kernelspec": {
   "display_name": "Python 3",
   "language": "python",
   "name": "python3"
  },
  "language_info": {
   "codemirror_mode": {
    "name": "ipython",
    "version": 3
   },
   "file_extension": ".py",
   "mimetype": "text/x-python",
   "name": "python",
   "nbconvert_exporter": "python",
   "pygments_lexer": "ipython3",
   "version": "3.13.3"
  }
 },
 "nbformat": 4,
 "nbformat_minor": 5
}
