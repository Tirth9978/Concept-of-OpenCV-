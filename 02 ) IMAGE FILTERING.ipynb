{
 "cells": [
  {
   "cell_type": "code",
   "execution_count": null,
   "id": "322f1aca",
   "metadata": {},
   "outputs": [],
   "source": [
    "import cv2 \n",
    "import numpy as np\n",
    "from matplotlib import pyplot as plt"
   ]
  },
  {
   "cell_type": "markdown",
   "id": "b76b177f",
   "metadata": {},
   "source": [
    "##  Gaussian Blur - Smoothing Your Image "
   ]
  },
  {
   "cell_type": "code",
   "execution_count": null,
   "id": "624de82c",
   "metadata": {},
   "outputs": [],
   "source": [
    "image = cv2.imread(\"image.jpg\")\n",
    "\n",
    "gaussian_blur = cv2.GaussianBlur(image , (99,99) ,0)\n",
    "# (15, 15) -> This is the kernel size — a 15×15 window that slides over the image\n",
    "#          -> It determines how much the image will be blurred.\n",
    "#          -> Larger numbers = stronger blur.\n",
    "#          -> Both numbers must be odd and positive (like 3, 5, 7, 15...).\n",
    "\n",
    "\n",
    "gaussian_blur_rgb = cv2.cvtColor(gaussian_blur, cv2.COLOR_BGR2RGB)\n",
    "original_rgb = cv2.cvtColor(image , cv2.COLOR_BGR2RGB)\n",
    "\n",
    "\n",
    "plt.figure(figsize=(12, 5))\n",
    "\n",
    "plt.subplot(1, 2, 1)\n",
    "plt.imshow(original_rgb)\n",
    "plt.title('riginal Image')\n",
    "plt.axis('off')\n",
    "\n",
    "plt.subplot(1, 2, 2)\n",
    "plt.imshow(gaussian_blur_rgb)\n",
    "plt.title('Gaussian Blur')\n",
    "plt.axis('off')\n",
    "\n",
    "plt.tight_layout()\n",
    "plt.show()\n"
   ]
  }
 ],
 "metadata": {
  "kernelspec": {
   "display_name": "Python 3",
   "language": "python",
   "name": "python3"
  },
  "language_info": {
   "codemirror_mode": {
    "name": "ipython",
    "version": 3
   },
   "file_extension": ".py",
   "mimetype": "text/x-python",
   "name": "python",
   "nbconvert_exporter": "python",
   "pygments_lexer": "ipython3",
   "version": "3.13.3"
  }
 },
 "nbformat": 4,
 "nbformat_minor": 5
}
