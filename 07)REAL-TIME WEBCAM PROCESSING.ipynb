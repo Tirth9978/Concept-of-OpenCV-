{
 "cells": [
  {
   "cell_type": "markdown",
   "id": "8eef7e1b",
   "metadata": {},
   "source": [
    "# REAL-TIME WEBCAM PROCESSING "
   ]
  },
  {
   "cell_type": "code",
   "execution_count": 5,
   "id": "59103a90",
   "metadata": {},
   "outputs": [],
   "source": [
    "import cv2 \n",
    "import numpy as np\n",
    "from matplotlib import pyplot as plt\n",
    "\n",
    "image = cv2.imread(\"image.png\")"
   ]
  },
  {
   "cell_type": "markdown",
   "id": "43f5253e",
   "metadata": {},
   "source": [
    "`simple_webcam_demo()` pens your webcam, shows live video, applies edge detection in real time, and lets you:\n",
    "- Press ‘c’ → capture and save a photo\n",
    "- Press ‘q’ → quit the demo"
   ]
  },
  {
   "cell_type": "code",
   "execution_count": 6,
   "id": "8df08915",
   "metadata": {},
   "outputs": [
    {
     "name": "stdout",
     "output_type": "stream",
     "text": [
      "📹 Webcam activated! Press 'q' to quit, 'c' to capture\n",
      "🎬 Webcam session ended!\n"
     ]
    }
   ],
   "source": [
    "def simple_webcam_demo():\n",
    "    \"\"\"A simple real-time webcam demonstration\"\"\"\n",
    "    cap = cv2.VideoCapture(0)\n",
    "    \n",
    "    if not cap.isOpened():\n",
    "        print(\"❌ Cannot access webcam!\")\n",
    "        return\n",
    "    \n",
    "    print(\"📹 Webcam activated! Press 'q' to quit, 'c' to capture\")\n",
    "    \n",
    "    while True:\n",
    "        # Read frame from webcam\n",
    "        ret, frame = cap.read()\n",
    "        if not ret:\n",
    "            break\n",
    "            \n",
    "        # Convert to grayscale for a cool effect\n",
    "        gray = cv2.cvtColor(frame, cv2.COLOR_BGR2GRAY)\n",
    "        \n",
    "        # Apply some simple processing\n",
    "        edges = cv2.Canny(gray, 100, 200)\n",
    "        \n",
    "        # Display both original and processed\n",
    "        combined = np.hstack((frame, cv2.cvtColor(edges, cv2.COLOR_GRAY2BGR)))\n",
    "        \n",
    "        cv2.imshow('📹 Real-Time Magic: Original | Edge Detection', combined)\n",
    "        \n",
    "        # Key controls\n",
    "        key = cv2.waitKey(1) & 0xFF\n",
    "        if key == ord('q'):\n",
    "            break\n",
    "        elif key == ord('c'):\n",
    "            # Save captured image\n",
    "            cv2.imwrite('captured_image.jpg', frame)\n",
    "            print(\"📸 Image captured and saved as 'captured_image.jpg'!\")\n",
    "    \n",
    "    cap.release()\n",
    "    cv2.destroyAllWindows()\n",
    "    print(\"🎬 Webcam session ended!\")\n",
    "\n",
    "# Uncomment the line below to try the webcam (if you have one)\n",
    "simple_webcam_demo()"
   ]
  },
  {
   "cell_type": "markdown",
   "id": "5e1a2cc8",
   "metadata": {},
   "source": [
    "### Live Face Detection"
   ]
  },
  {
   "cell_type": "code",
   "execution_count": 7,
   "id": "1d03d2ef",
   "metadata": {},
   "outputs": [
    {
     "name": "stdout",
     "output_type": "stream",
     "text": [
      "Face Detection models loaded :)\n"
     ]
    }
   ],
   "source": [
    "face_detection = cv2.CascadeClassifier(cv2.data.haarcascades + 'haarcascade_frontalface_default.xml')\n",
    "eye_detection = cv2.CascadeClassifier(cv2.data.haarcascades + 'haarcascade_eye.xml')\n",
    "\n",
    "print(\"Face Detection models loaded :)\") "
   ]
  },
  {
   "cell_type": "code",
   "execution_count": null,
   "id": "2ab5a94b",
   "metadata": {},
   "outputs": [
    {
     "name": "stdout",
     "output_type": "stream",
     "text": [
      "📹 Webcam activated! Press 'q' to quit, 'c' to capture\n"
     ]
    },
    {
     "ename": "",
     "evalue": "",
     "output_type": "error",
     "traceback": [
      "\u001b[1;31mThe Kernel crashed while executing code in the current cell or a previous cell. \n",
      "\u001b[1;31mPlease review the code in the cell(s) to identify a possible cause of the failure. \n",
      "\u001b[1;31mClick <a href='https://aka.ms/vscodeJupyterKernelCrash'>here</a> for more info. \n",
      "\u001b[1;31mView Jupyter <a href='command:jupyter.viewOutput'>log</a> for further details."
     ]
    }
   ],
   "source": [
    "def face(image) :\n",
    "    # Convert to grayscale for detection\n",
    "    gray = cv2.cvtColor(image , cv2.COLOR_BGR2GRAY)\n",
    "\n",
    "    # Detecate the Face \n",
    "    faces = face_detection.detectMultiScale(gray , 1.1 , 4)\n",
    "\n",
    "    # Create the copy \n",
    "    copy_image = image.copy()\n",
    "    for (x, y, w, h) in faces:\n",
    "        cv2.rectangle(copy_image, (x, y), (x+w, y+h), (255, 0, 0), 3)\n",
    "        # Detect eyes within each face\n",
    "        roi_gray = gray[y:y+h, x:x+w]\n",
    "        roi_color = copy_image[y:y+h, x:x+w]\n",
    "        eyes = eye_detection.detectMultiScale(roi_gray)\n",
    "        for (ex, ey, ew, eh) in eyes:\n",
    "            cv2.rectangle(roi_color, (ex, ey), (ex+ew, ey+eh), (0, 255, 0), 2)\n",
    "    result_rgb = cv2.cvtColor(copy_image, cv2.COLOR_BGR2RGB)\n",
    "    return result_rgb\n",
    "\n",
    "def simple_webcam_demo():\n",
    "    \"\"\"A simple real-time webcam demonstration\"\"\"\n",
    "    cap = cv2.VideoCapture(0)\n",
    "    \n",
    "    if not cap.isOpened():\n",
    "        print(\"❌ Cannot access webcam!\")\n",
    "        return\n",
    "    \n",
    "    print(\"📹 Webcam activated! Press 'q' to quit, 'c' to capture\")\n",
    "    \n",
    "    while True:\n",
    "        # Read frame from webcam\n",
    "        ret, frame = cap.read()\n",
    "        if not ret:\n",
    "            break\n",
    "            \n",
    "        # Convert to grayscale for a cool effect\n",
    "        gray = cv2.cvtColor(frame, cv2.COLOR_BGR2GRAY)\n",
    "        \n",
    "        # Apply some simple processing\n",
    "        edges = cv2.Canny(gray, 100, 200)\n",
    "        \n",
    "        # Display both original and processed\n",
    "        combined = np.hstack((frame, face(frame)))\n",
    "        \n",
    "        cv2.imshow('📹 Real-Time Magic: Original | Edge Detection', combined)\n",
    "        \n",
    "        # Key controls\n",
    "        key = cv2.waitKey(1) & 0xFF\n",
    "        if key == ord('q'):\n",
    "            break\n",
    "        elif key == ord('c'):\n",
    "            # Save captured image\n",
    "            cv2.imwrite('captured_image.jpg', frame)\n",
    "            print(\"📸 Image captured and saved as 'captured_image.jpg'!\")\n",
    "    \n",
    "# Uncomment the line below to try the webcam (if you have one)\n",
    "simple_webcam_demo()"
   ]
  }
 ],
 "metadata": {
  "kernelspec": {
   "display_name": "Python 3",
   "language": "python",
   "name": "python3"
  },
  "language_info": {
   "codemirror_mode": {
    "name": "ipython",
    "version": 3
   },
   "file_extension": ".py",
   "mimetype": "text/x-python",
   "name": "python",
   "nbconvert_exporter": "python",
   "pygments_lexer": "ipython3",
   "version": "3.13.3"
  }
 },
 "nbformat": 4,
 "nbformat_minor": 5
}
